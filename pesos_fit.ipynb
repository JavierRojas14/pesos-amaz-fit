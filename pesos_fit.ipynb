{
 "cells": [
  {
   "cell_type": "code",
   "execution_count": 45,
   "metadata": {},
   "outputs": [],
   "source": [
    "import pandas as pd\n",
    "import numpy as np\n",
    "\n",
    "import matplotlib.pyplot as plt\n",
    "import seaborn as sns\n",
    "\n",
    "sns.set_style()\n",
    "plt.rcParams['figure.figsize'] = (12, 6)"
   ]
  },
  {
   "cell_type": "code",
   "execution_count": 51,
   "metadata": {},
   "outputs": [],
   "source": [
    "df = pd.read_csv(\"input/BODY.csv\")\n",
    "df[\"time\"] = df[\"time\"].str.replace(\"+0000\", \"\")\n",
    "df[\"time\"] = pd.to_datetime(df[\"time\"])"
   ]
  },
  {
   "cell_type": "code",
   "execution_count": 52,
   "metadata": {},
   "outputs": [],
   "source": [
    "FECHA_INICIAL = pd.to_datetime(\"01-10-2023\", dayfirst=True)\n",
    "FECHA_FINAL = pd.to_datetime(\"31-10-2023\", dayfirst=True)"
   ]
  },
  {
   "cell_type": "code",
   "execution_count": 53,
   "metadata": {},
   "outputs": [],
   "source": [
    "df_fecha = df[(df.time >= FECHA_INICIAL) & (df.time <= FECHA_FINAL)]"
   ]
  },
  {
   "cell_type": "code",
   "execution_count": 54,
   "metadata": {},
   "outputs": [],
   "source": [
    "calculo_pesos = df_fecha.groupby(pd.Grouper(key=\"time\", freq=\"W\")).mean()"
   ]
  },
  {
   "cell_type": "code",
   "execution_count": 58,
   "metadata": {},
   "outputs": [
    {
     "data": {
      "text/html": [
       "<div>\n",
       "<style scoped>\n",
       "    .dataframe tbody tr th:only-of-type {\n",
       "        vertical-align: middle;\n",
       "    }\n",
       "\n",
       "    .dataframe tbody tr th {\n",
       "        vertical-align: top;\n",
       "    }\n",
       "\n",
       "    .dataframe thead th {\n",
       "        text-align: right;\n",
       "    }\n",
       "</style>\n",
       "<table border=\"1\" class=\"dataframe\">\n",
       "  <thead>\n",
       "    <tr style=\"text-align: right;\">\n",
       "      <th></th>\n",
       "      <th>weight</th>\n",
       "      <th>height</th>\n",
       "      <th>bmi</th>\n",
       "      <th>fatRate</th>\n",
       "      <th>bodyWaterRate</th>\n",
       "      <th>boneMass</th>\n",
       "      <th>metabolism</th>\n",
       "      <th>muscleRate</th>\n",
       "      <th>visceralFat</th>\n",
       "    </tr>\n",
       "    <tr>\n",
       "      <th>time</th>\n",
       "      <th></th>\n",
       "      <th></th>\n",
       "      <th></th>\n",
       "      <th></th>\n",
       "      <th></th>\n",
       "      <th></th>\n",
       "      <th></th>\n",
       "      <th></th>\n",
       "      <th></th>\n",
       "    </tr>\n",
       "  </thead>\n",
       "  <tbody>\n",
       "    <tr>\n",
       "      <th>2023-10-01</th>\n",
       "      <td>77.100000</td>\n",
       "      <td>173.0</td>\n",
       "      <td>25.700000</td>\n",
       "      <td>24.529846</td>\n",
       "      <td>51.772526</td>\n",
       "      <td>2.962406</td>\n",
       "      <td>1677.000000</td>\n",
       "      <td>55.225082</td>\n",
       "      <td>10.0</td>\n",
       "    </tr>\n",
       "    <tr>\n",
       "      <th>2023-10-08</th>\n",
       "      <td>77.191667</td>\n",
       "      <td>173.0</td>\n",
       "      <td>25.733333</td>\n",
       "      <td>24.638173</td>\n",
       "      <td>51.698214</td>\n",
       "      <td>2.961639</td>\n",
       "      <td>1678.666667</td>\n",
       "      <td>55.210983</td>\n",
       "      <td>10.0</td>\n",
       "    </tr>\n",
       "    <tr>\n",
       "      <th>2023-10-15</th>\n",
       "      <td>77.290000</td>\n",
       "      <td>173.0</td>\n",
       "      <td>25.760000</td>\n",
       "      <td>24.678565</td>\n",
       "      <td>51.670505</td>\n",
       "      <td>2.963858</td>\n",
       "      <td>1680.400000</td>\n",
       "      <td>55.251788</td>\n",
       "      <td>10.0</td>\n",
       "    </tr>\n",
       "    <tr>\n",
       "      <th>2023-10-22</th>\n",
       "      <td>78.135714</td>\n",
       "      <td>173.0</td>\n",
       "      <td>26.057143</td>\n",
       "      <td>25.023135</td>\n",
       "      <td>51.434129</td>\n",
       "      <td>2.982808</td>\n",
       "      <td>1692.714286</td>\n",
       "      <td>55.600224</td>\n",
       "      <td>10.0</td>\n",
       "    </tr>\n",
       "    <tr>\n",
       "      <th>2023-10-29</th>\n",
       "      <td>77.850000</td>\n",
       "      <td>173.0</td>\n",
       "      <td>25.966667</td>\n",
       "      <td>24.865236</td>\n",
       "      <td>51.542448</td>\n",
       "      <td>2.978117</td>\n",
       "      <td>1688.666667</td>\n",
       "      <td>55.513971</td>\n",
       "      <td>10.0</td>\n",
       "    </tr>\n",
       "    <tr>\n",
       "      <th>2023-11-05</th>\n",
       "      <td>77.900000</td>\n",
       "      <td>173.0</td>\n",
       "      <td>26.000000</td>\n",
       "      <td>25.107204</td>\n",
       "      <td>51.376457</td>\n",
       "      <td>2.970349</td>\n",
       "      <td>1689.000000</td>\n",
       "      <td>55.371140</td>\n",
       "      <td>10.0</td>\n",
       "    </tr>\n",
       "  </tbody>\n",
       "</table>\n",
       "</div>"
      ],
      "text/plain": [
       "               weight  height        bmi    fatRate  bodyWaterRate  boneMass  \\\n",
       "time                                                                           \n",
       "2023-10-01  77.100000   173.0  25.700000  24.529846      51.772526  2.962406   \n",
       "2023-10-08  77.191667   173.0  25.733333  24.638173      51.698214  2.961639   \n",
       "2023-10-15  77.290000   173.0  25.760000  24.678565      51.670505  2.963858   \n",
       "2023-10-22  78.135714   173.0  26.057143  25.023135      51.434129  2.982808   \n",
       "2023-10-29  77.850000   173.0  25.966667  24.865236      51.542448  2.978117   \n",
       "2023-11-05  77.900000   173.0  26.000000  25.107204      51.376457  2.970349   \n",
       "\n",
       "             metabolism  muscleRate  visceralFat  \n",
       "time                                              \n",
       "2023-10-01  1677.000000   55.225082         10.0  \n",
       "2023-10-08  1678.666667   55.210983         10.0  \n",
       "2023-10-15  1680.400000   55.251788         10.0  \n",
       "2023-10-22  1692.714286   55.600224         10.0  \n",
       "2023-10-29  1688.666667   55.513971         10.0  \n",
       "2023-11-05  1689.000000   55.371140         10.0  "
      ]
     },
     "metadata": {},
     "output_type": "display_data"
    },
    {
     "data": {
      "image/png": "[encoded data removed]",
      "text/plain": [
       "<Figure size 1200x600 with 1 Axes>"
      ]
     },
     "metadata": {},
     "output_type": "display_data"
    }
   ],
   "source": [
    "display(calculo_pesos)\n",
    "calculo_pesos.plot(y=\"weight\", title=\"Cambios de pesos en cada semana del mes\")\n",
    "plt.show()"
   ]
  },
  {
   "cell_type": "code",
   "execution_count": 60,
   "metadata": {},
   "outputs": [
    {
     "name": "stdout",
     "output_type": "stream",
     "text": [
      "> El peso de la primera semana del mes fue: 77.10\n",
      "> El peso de la ultima semana del mes fue: 77.90\n",
      ">> La diferencia entre la primera y ultima semana del mes fue: 0.80\n"
     ]
    }
   ],
   "source": [
    "primera_semana_mes = calculo_pesos.iloc[0][\"weight\"]\n",
    "ultima_semana_mes = calculo_pesos.iloc[-1][\"weight\"]\n",
    "diferencia = ultima_semana_mes - primera_semana_mes\n",
    "\n",
    "print(f\"> El peso de la primera semana del mes fue: {primera_semana_mes:.2f}\\n\"\n",
    "      f\"> El peso de la ultima semana del mes fue: {ultima_semana_mes:.2f}\\n\"\n",
    "      f\">> La diferencia entre la primera y ultima semana del mes fue: {diferencia:.2f}\")"
   ]
  }
 ],
 "metadata": {
  "kernelspec": {
   "display_name": "base",
   "language": "python",
   "name": "python3"
  },
  "language_info": {
   "codemirror_mode": {
    "name": "ipython",
    "version": 3
   },
   "file_extension": ".py",
   "mimetype": "text/x-python",
   "name": "python",
   "nbconvert_exporter": "python",
   "pygments_lexer": "ipython3",
   "version": "3.11.5"
  }
 },
 "nbformat": 4,
 "nbformat_minor": 2
}
